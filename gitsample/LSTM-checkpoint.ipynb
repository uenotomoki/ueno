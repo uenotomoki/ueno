{
 "cells": [
  {
   "cell_type": "code",
   "execution_count": 3,
   "metadata": {
    "collapsed": true
   },
   "outputs": [],
   "source": [
    "def LSTM(X_train,Y_train,X_test,Y_test,n_hidden,epochs,batch_size):\n",
    "    \n",
    "    maxlen = 100\n",
    "    \n",
    "    from sklearn import preprocessing\n",
    "    from sklearn.model_selection import train_test_split\n",
    "    import time\n",
    "\n",
    "    import numpy as np\n",
    "    import pandas as pd\n",
    "\n",
    "    from keras.models import Sequential\n",
    "    from keras.layers import Dense,Activation\n",
    "    from keras.optimizers import SGD\n",
    "    from keras.utils import np_utils\n",
    "    from keras.models import load_model\n",
    "    \n",
    "    from keras.layers.recurrent import LSTM\n",
    "    \n",
    "    import matplotlib.pyplot as plt\n",
    "    \n",
    "    '''\n",
    "    X = np.array(X_train).reshape(len(X_train),maxlen,len(X_train[0]))\n",
    "    Y = np.array(Y_train).reshape(len(Y_train),len(Y_train[0]))\n",
    "    \n",
    "    X_test = np.array(X_test).reshape(len(X_test),maxlen,len(X_test[0]))\n",
    "    Y_test = np.array(Y_test).reshape(len(Y_test),len(Y_test[0]))\n",
    "    '''\n",
    "\n",
    "    n_in = len(X_train[0][0])\n",
    "    #n_out = len(Y_train[0])\n",
    "    n_out = 2\n",
    "\n",
    "    model = Sequential()\n",
    "    model.add(LSTM(n_hidden,\n",
    "                        activation='sigmoid',\n",
    "                        input_shape=(maxlen,n_in)))\n",
    "    #model.add(Dropout(0.5))\n",
    "    model.add(Dense(n_out))\n",
    "    model.add(Activation('softmax'))\n",
    "    #model.add(Dropout(0.5))\n",
    "    \n",
    "    #optimizer = SGD(lr = 0.01)\n",
    "    optimizer = 'adam'\n",
    "    model.compile(loss='sparse_categorical_crossentropy',optimizer=optimizer,metrics=['accuracy'])\n",
    "\n",
    "    history = model.fit(X_train,Y_train,\n",
    "              epochs = epochs,\n",
    "              batch_size = batch_size,\n",
    "              verbose=2,\n",
    "              validation_data=(X_test, Y_test)\n",
    "              )\n",
    "    #validation_data=(X_test, Y_test)\n",
    "    # モデルの保存\n",
    "    model.save('LSTMmodel.hdf5')\n",
    "\n",
    "    # 学習済みの重みを保存\n",
    "    model.save_weights('LSTMand.hdf5')\n",
    "    \n",
    "    plt.plot(history.history['acc'], marker='.')\n",
    "    plt.plot(history.history['val_acc'], marker='.')\n",
    "    plt.title('model accuracy')\n",
    "    plt.xlabel('epoch')\n",
    "    plt.ylabel('accuracy')\n",
    "    plt.grid()\n",
    "    plt.legend(['acc', 'val_acc'], loc='lower right')\n",
    "    plt.show()\n",
    "\n",
    "    # 損失の履歴をプロット\n",
    "    plt.plot(history.history['loss'], marker='.')\n",
    "    plt.plot(history.history['val_loss'], marker='.')\n",
    "    plt.title('model loss')\n",
    "    plt.xlabel('epoch')\n",
    "    plt.ylabel('loss')\n",
    "    plt.grid()\n",
    "    plt.legend(['loss', 'val_loss'], loc='lower right')\n",
    "    plt.show()\n",
    "    \n",
    "\n",
    "def probTF(prob,Y_test):\n",
    "    \n",
    "    TP = 0\n",
    "    TN = 0\n",
    "    FP = 0\n",
    "    FN = 0\n",
    "    \n",
    "    for row in range(len(prob)):\n",
    "        \n",
    "        if prob[row][0] > prob[row][1]:\n",
    "            check = 0\n",
    "        else:\n",
    "            check = 1\n",
    "            \n",
    "        if int(Y_test[row][0]) > int(Y_test[row][1]):\n",
    "            checkY = 0\n",
    "        else:\n",
    "            checkY = 1\n",
    "        \n",
    "        '''\n",
    "        print('check')\n",
    "        print(check)\n",
    "        print('Y_test[row]')\n",
    "        print(Y_test[row])\n",
    "        '''\n",
    "        if check == 0 and check == checkY:\n",
    "            TN = TN + 1\n",
    "        elif check == 1 and check == checkY:\n",
    "            TP = TP + 1\n",
    "        elif check == 1 and check != checkY:\n",
    "            FP = FP + 1\n",
    "        elif check == 0 and check != checkY:\n",
    "            FN = FN + 1\n",
    "            \n",
    "    precision = TP/(TP + FP)\n",
    "    recall = TP/(TP + FN)\n",
    "    Accuracy = (TP + TN)/(TP + TN + FP + FN)\n",
    "\n",
    "    #調和平均\n",
    "    from scipy import stats\n",
    "    Fmean = stats.hmean([precision, recall])\n",
    "            \n",
    "    return TP,TN,FP,FN,Accuracy,precision,recall,Fmean"
   ]
  },
  {
   "cell_type": "code",
   "execution_count": 4,
   "metadata": {
    "scrolled": false
   },
   "outputs": [
    {
     "name": "stdout",
     "output_type": "stream",
     "text": [
      "Train on 10000 samples, validate on 10000 samples\n",
      "Epoch 1/3\n",
      "47s - loss: 0.3493 - acc: 0.8827 - val_loss: 1.0834 - val_acc: 0.5593\n",
      "Epoch 2/3\n",
      "46s - loss: 0.3255 - acc: 0.9001 - val_loss: 1.0000 - val_acc: 0.5593\n",
      "Epoch 3/3\n",
      "46s - loss: 0.3264 - acc: 0.9001 - val_loss: 1.1020 - val_acc: 0.5593\n"
     ]
    },
    {
     "data": {
      "image/png": "[encoded data removed]",
      "text/plain": [
       "<Figure size 432x288 with 1 Axes>"
      ]
     },
     "metadata": {},
     "output_type": "display_data"
    },
    {
     "data": {
      "image/png": "[encoded data removed]",
      "text/plain": [
       "<Figure size 432x288 with 1 Axes>"
      ]
     },
     "metadata": {},
     "output_type": "display_data"
    }
   ],
   "source": [
    "import os\n",
    "os.chdir(\"C:\\\\Users\\\\u\\\\Desktop\\\\MWSpython5\\\\syuuronn\")\n",
    "\n",
    "from file import def_file_open,def_file_write\n",
    "file_name = 'C:\\\\Users\\\\u\\\\Desktop\\\\MWSpython5\\\\syuuronn\\\\NB0834340728'\n",
    "data = def_file_open.file_open(file_name)\n",
    "\n",
    "from file import def_file_dataLSTM\n",
    "X_train,Y_train,X_test,Y_test = def_file_dataLSTM.file_data(data,4)     \n",
    "\n",
    "LSTM(X_train,Y_train,X_test,Y_test,200,3,100)"
   ]
  },
  {
   "cell_type": "code",
   "execution_count": 10,
   "metadata": {},
   "outputs": [
    {
     "name": "stdout",
     "output_type": "stream",
     "text": [
      "プログラム終わりました\n"
     ]
    }
   ],
   "source": [
    "import numpy as np\n",
    "\n",
    "import os\n",
    "os.chdir(\"C:\\\\Users\\\\u\\\\Desktop\\\\MWSpython5\\\\syuuronn\")\n",
    "\n",
    "from file import def_file_open,def_file_write\n",
    "file_name = 'C:\\\\Users\\\\u\\\\Desktop\\\\MWSpython5\\\\syuuronn\\\\NB0834340728'\n",
    "data = def_file_open.file_open(file_name)\n",
    "\n",
    "from file import def_file_dataLSTM\n",
    "X_train,Y_train,X_test,Y_test = def_file_dataLSTM.file_data(data,4)\n",
    "\n",
    "from keras.models import load_model\n",
    "\n",
    "model = load_model('LSTMmodel.hdf5')\n",
    "model.load_weights('LSTMand.hdf5')\n",
    "'''\n",
    "X = np.array(X_train).reshape(len(X_train),1,len(X_train[0]))\n",
    "Y = np.array(Y_train).reshape(len(Y_train),len(Y_train[0]))\n",
    "\n",
    "X_test = np.array(X_test).reshape(len(X_test),1,len(X_test[0]))\n",
    "Y_test = np.array(Y_test).reshape(len(Y_test),len(Y_test[0]))\n",
    "'''\n",
    "\n",
    "from keras.utils import np_utils\n",
    "Y_test = np_utils.to_categorical(Y_test,2)\n",
    "\n",
    "prob = model.predict(X_test)\n",
    "TP,TN,FP,FN,Accuracy,precision,recall,Fmean = probTF(prob,Y_test)\n",
    "print('プログラム終わりました')"
   ]
  },
  {
   "cell_type": "code",
   "execution_count": 11,
   "metadata": {},
   "outputs": [
    {
     "data": {
      "text/plain": [
       "(5593, 0, 4407, 0, 0.5593, 0.5593, 1.0, 0.7173731802731996)"
      ]
     },
     "execution_count": 11,
     "metadata": {},
     "output_type": "execute_result"
    }
   ],
   "source": [
    "TP,TN,FP,FN,Accuracy,precision,recall,Fmean"
   ]
  },
  {
   "cell_type": "code",
   "execution_count": 9,
   "metadata": {},
   "outputs": [
    {
     "data": {
      "text/plain": [
       "(10000, 1)"
      ]
     },
     "execution_count": 9,
     "metadata": {},
     "output_type": "execute_result"
    }
   ],
   "source": [
    "Y_test.shape"
   ]
  },
  {
   "cell_type": "code",
   "execution_count": null,
   "metadata": {
    "collapsed": true
   },
   "outputs": [],
   "source": []
  },
  {
   "cell_type": "code",
   "execution_count": null,
   "metadata": {
    "collapsed": true
   },
   "outputs": [],
   "source": [
    "import matplotlib.pyplot as plt\n",
    "def plot_history(history):\n",
    "    # print(history.history.keys())\n",
    "\n",
    "    # 精度の履歴をプロット\n",
    "    plt.plot(history.history['acc'], marker='.')\n",
    "    plt.plot(history.history['val_acc'], marker='.')\n",
    "    plt.title('model accuracy')\n",
    "    plt.xlabel('epoch')\n",
    "    plt.ylabel('accuracy')\n",
    "    plt.grid()\n",
    "    plt.legend(['acc', 'val_acc'], loc='lower right')\n",
    "    plt.show()\n",
    "\n",
    "    # 損失の履歴をプロット\n",
    "    plt.plot(history.history['loss'], marker='.')\n",
    "    plt.plot(history.history['val_loss'], marker='.')\n",
    "    plt.title('model loss')\n",
    "    plt.xlabel('epoch')\n",
    "    plt.ylabel('loss')\n",
    "    plt.grid()\n",
    "    plt.legend(['loss', 'val_loss'], loc='lower right')\n",
    "    plt.show()\n",
    "\n",
    "plot_history(history)"
   ]
  },
  {
   "cell_type": "code",
   "execution_count": null,
   "metadata": {
    "collapsed": true
   },
   "outputs": [],
   "source": []
  },
  {
   "cell_type": "code",
   "execution_count": null,
   "metadata": {
    "collapsed": true
   },
   "outputs": [],
   "source": [
    "a = 0\n",
    "b = 0\n",
    "\n",
    "for row in range(len(Y_test)):\n",
    "  \n",
    "    if int(Y_test[row][0]) > int(Y_test[row][1]):\n",
    "        a = a + 1\n",
    "    else:\n",
    "        b = b + 1"
   ]
  },
  {
   "cell_type": "code",
   "execution_count": null,
   "metadata": {
    "collapsed": true
   },
   "outputs": [],
   "source": [
    "a"
   ]
  },
  {
   "cell_type": "code",
   "execution_count": null,
   "metadata": {
    "collapsed": true
   },
   "outputs": [],
   "source": [
    "b"
   ]
  },
  {
   "cell_type": "code",
   "execution_count": null,
   "metadata": {
    "collapsed": true
   },
   "outputs": [],
   "source": []
  },
  {
   "cell_type": "code",
   "execution_count": null,
   "metadata": {
    "collapsed": true
   },
   "outputs": [],
   "source": [
    "df = pd.DataFrame(data)\n",
    "    \n",
    "    X_train = []\n",
    "    Y_train = []\n",
    "    X_test = []\n",
    "    Y_te = []\n",
    "\n",
    "    class_row = 3\n",
    "    \n",
    "    X_train = df.iloc[0:10000,0:class_row].values\n",
    "    Y_train = df.iloc[0:10000,class_row].values\n",
    "    X_test = df.iloc[10000:20000,0:class_row].values\n",
    "    Y_te = df.iloc[10000:20000,class_row].values\n",
    "            \n",
    "    Y_train = np_utils.to_categorical(Y_train,2)\n",
    "    Y_test = np_utils.to_categorical(Y_te,2)"
   ]
  },
  {
   "cell_type": "code",
   "execution_count": null,
   "metadata": {
    "collapsed": true
   },
   "outputs": [],
   "source": []
  },
  {
   "cell_type": "code",
   "execution_count": null,
   "metadata": {
    "collapsed": true
   },
   "outputs": [],
   "source": [
    "import numpy as np\n",
    "\n",
    "a = np.arange(12) # １つ１次元配列を生成。"
   ]
  },
  {
   "cell_type": "code",
   "execution_count": null,
   "metadata": {
    "collapsed": true
   },
   "outputs": [],
   "source": [
    "a"
   ]
  },
  {
   "cell_type": "code",
   "execution_count": null,
   "metadata": {
    "collapsed": true
   },
   "outputs": [],
   "source": [
    "b = np.reshape(a, (3, 4)) "
   ]
  },
  {
   "cell_type": "code",
   "execution_count": null,
   "metadata": {
    "collapsed": true
   },
   "outputs": [],
   "source": [
    "b"
   ]
  },
  {
   "cell_type": "code",
   "execution_count": null,
   "metadata": {
    "collapsed": true
   },
   "outputs": [],
   "source": [
    "b = np.reshape(a, (1)) # 3×4の２次元配列に変形。"
   ]
  },
  {
   "cell_type": "code",
   "execution_count": null,
   "metadata": {
    "collapsed": true
   },
   "outputs": [],
   "source": [
    "b"
   ]
  },
  {
   "cell_type": "code",
   "execution_count": null,
   "metadata": {
    "collapsed": true
   },
   "outputs": [],
   "source": [
    "X_train,Y_train"
   ]
  },
  {
   "cell_type": "code",
   "execution_count": null,
   "metadata": {
    "collapsed": true
   },
   "outputs": [],
   "source": [
    "X_train.shape"
   ]
  },
  {
   "cell_type": "code",
   "execution_count": null,
   "metadata": {
    "collapsed": true
   },
   "outputs": [],
   "source": [
    "Y_train.shape"
   ]
  },
  {
   "cell_type": "code",
   "execution_count": null,
   "metadata": {
    "collapsed": true
   },
   "outputs": [],
   "source": []
  }
 ],
 "metadata": {
  "kernelspec": {
   "display_name": "Python 3",
   "language": "python",
   "name": "python3"
  },
  "language_info": {
   "codemirror_mode": {
    "name": "ipython",
    "version": 3
   },
   "file_extension": ".py",
   "mimetype": "text/x-python",
   "name": "python",
   "nbconvert_exporter": "python",
   "pygments_lexer": "ipython3",
   "version": "3.7.3"
  }
 },
 "nbformat": 4,
 "nbformat_minor": 2
}
