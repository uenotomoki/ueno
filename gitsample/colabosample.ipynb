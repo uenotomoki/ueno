{
 "cells": [
  {
   "cell_type": "code",
   "execution_count": null,
   "metadata": {
    "colab": {
     "base_uri": "https://localhost:8080/",
     "height": 35
    },
    "colab_type": "code",
    "id": "i_IGk42DX_DP",
    "outputId": "1cdf21f0-cfec-46b0-cfe5-51d658ae2585"
   },
   "outputs": [],
   "source": [
    "#kerasをインポートする\n",
    "from keras import backend as K"
   ]
  },
  {
   "cell_type": "code",
   "execution_count": null,
   "metadata": {
    "colab": {},
    "colab_type": "code",
    "collapsed": true,
    "id": "d_-lGQ2H1c1o"
   },
   "outputs": [],
   "source": [
    "#pandasとnumpyをインポートする\n",
    "import pandas as pd\n",
    "import numpy as np"
   ]
  },
  {
   "cell_type": "code",
   "execution_count": null,
   "metadata": {
    "colab": {},
    "colab_type": "code",
    "collapsed": true,
    "id": "pAToltsvZtTH"
   },
   "outputs": [],
   "source": [
    "#トレーニングデータとテストデータを読み込む\n",
    "train = pd.read_csv(\"./train.csv\")\n",
    "test = pd.read_csv(\"./test.csv\")"
   ]
  },
  {
   "cell_type": "code",
   "execution_count": null,
   "metadata": {
    "colab": {
     "base_uri": "https://localhost:8080/",
     "height": 250
    },
    "colab_type": "code",
    "id": "Tpf3kHZka1x2",
    "outputId": "f2cbc4eb-9cb9-4300-8b75-efd9e61dd2e3"
   },
   "outputs": [],
   "source": [
    "#トレーニングデータの先頭を表示\n",
    "train.head()"
   ]
  },
  {
   "cell_type": "code",
   "execution_count": null,
   "metadata": {
    "colab": {
     "base_uri": "https://localhost:8080/",
     "height": 126
    },
    "colab_type": "code",
    "id": "AhGKBPwsG-Cx",
    "outputId": "1b4137ee-5bc2-41ee-b58a-fd2340e6ab76"
   },
   "outputs": [],
   "source": [
    "#教師データを抽出\n",
    "Y_train = train[\"Survived\"]\n",
    "Y_train.head()"
   ]
  },
  {
   "cell_type": "code",
   "execution_count": null,
   "metadata": {
    "colab": {
     "base_uri": "https://localhost:8080/",
     "height": 198
    },
    "colab_type": "code",
    "id": "pXO4hzO_bt2P",
    "outputId": "98a21d53-d2b2-40bd-cf35-05017f9ef485"
   },
   "outputs": [],
   "source": [
    "#テストデータの先頭を表示\n",
    "test.head()"
   ]
  },
  {
   "cell_type": "code",
   "execution_count": null,
   "metadata": {
    "colab": {
     "base_uri": "https://localhost:8080/",
     "height": 54
    },
    "colab_type": "code",
    "id": "ZzWCCKhycyx3",
    "outputId": "6da62434-1c7d-4452-a123-6186d1dd48e4"
   },
   "outputs": [],
   "source": [
    "#テストデータとトレーニングデータshapeを表示\n",
    "test_shape = test.shape\n",
    "train_shape = train.shape\n",
    "\n",
    "print(test_shape)\n",
    "print(train_shape)"
   ]
  },
  {
   "cell_type": "code",
   "execution_count": null,
   "metadata": {
    "colab": {},
    "colab_type": "code",
    "collapsed": true,
    "id": "bBEvSt-PdFRJ"
   },
   "outputs": [],
   "source": [
    "#データがない部分にAgeは年齢の平均をEmbarkedにはSを代入する\n",
    "train[\"Age\"] = train[\"Age\"].fillna(train[\"Age\"].median())\n",
    "train[\"Embarked\"] = train[\"Embarked\"].fillna(\"S\")\n",
    "\n",
    "test[\"Age\"] = test[\"Age\"].fillna(test[\"Age\"].median())\n",
    "test[\"Embarked\"] = test[\"Embarked\"].fillna(\"S\")"
   ]
  },
  {
   "cell_type": "code",
   "execution_count": null,
   "metadata": {
    "colab": {
     "base_uri": "https://localhost:8080/",
     "height": 1000
    },
    "colab_type": "code",
    "id": "EyRHkS3fts6w",
    "outputId": "ae34fed7-77e0-42fd-8cf4-035d28a4782b"
   },
   "outputs": [],
   "source": [
    "#文字列を数値に変換する\n",
    "train[\"Sex\"][train[\"Sex\"] == \"male\"] = 0\n",
    "train[\"Sex\"][train[\"Sex\"] == \"female\"] = 1\n",
    "train[\"Embarked\"][train[\"Embarked\"] == \"S\" ] = 0\n",
    "train[\"Embarked\"][train[\"Embarked\"] == \"C\" ] = 1\n",
    "train[\"Embarked\"][train[\"Embarked\"] == \"Q\"] = 2\n",
    "train.head(10)\n",
    "\n",
    "test[\"Sex\"][test[\"Sex\"] == \"male\"] = 0\n",
    "test[\"Sex\"][test[\"Sex\"] == \"female\"] = 1\n",
    "test[\"Embarked\"][test[\"Embarked\"] == \"S\" ] = 0\n",
    "test[\"Embarked\"][test[\"Embarked\"] == \"C\" ] = 1\n",
    "test[\"Embarked\"][test[\"Embarked\"] == \"Q\"] = 2\n",
    "test.head(10)"
   ]
  },
  {
   "cell_type": "code",
   "execution_count": null,
   "metadata": {
    "colab": {
     "base_uri": "https://localhost:8080/",
     "height": 198
    },
    "colab_type": "code",
    "id": "lSnFTOUMxSbl",
    "outputId": "06a505f8-9493-4f9e-c041-e6fc531fb2ac"
   },
   "outputs": [],
   "source": [
    "#Survived自身とSurvivedデータと関係ないデータを削除する\n",
    "#Name(名前)とTicket(チケット番号)、PassengerId(乗客番号)は固有の値であるため\n",
    "#Cabin(客室番号)は角質の場所がわからないため\n",
    "train = train.drop([\"Name\",\"Cabin\",\"Ticket\",\"PassengerId\",\"Survived\"], axis=1)\n",
    "train.head()\n",
    "\n",
    "test = test.drop([\"Name\",\"Cabin\",\"Ticket\",\"PassengerId\"], axis=1)\n",
    "train.head()"
   ]
  },
  {
   "cell_type": "code",
   "execution_count": null,
   "metadata": {
    "colab": {},
    "colab_type": "code",
    "id": "xahWgiSHt40Y"
   },
   "outputs": [],
   "source": [
    "#非数値特徴をバイナリベクトルに変換する\n",
    "from keras.utils import np_utils\n",
    "P_train = np_utils.to_categorical(train[\"Pclass\"],4)\n",
    "\n",
    "P_test = np_utils.to_categorical(test[\"Pclass\"],4)"
   ]
  },
  {
   "cell_type": "code",
   "execution_count": null,
   "metadata": {
    "colab": {},
    "colab_type": "code",
    "collapsed": true,
    "id": "ATQZtO8WwWKi"
   },
   "outputs": [],
   "source": [
    "#P_trainとP_testをnumpy型からpandas型に変換する\n",
    "P_train = pd.DataFrame(P_train)\n",
    "P_test = pd.DataFrame(P_test)"
   ]
  },
  {
   "cell_type": "code",
   "execution_count": null,
   "metadata": {
    "colab": {
     "base_uri": "https://localhost:8080/",
     "height": 198
    },
    "colab_type": "code",
    "id": "iUoxWdj6wqAT",
    "outputId": "f6ffb38d-c5df-4a21-fee3-a2d4982df8da"
   },
   "outputs": [],
   "source": [
    "P_train.head()"
   ]
  },
  {
   "cell_type": "code",
   "execution_count": null,
   "metadata": {
    "colab": {
     "base_uri": "https://localhost:8080/",
     "height": 198
    },
    "colab_type": "code",
    "id": "HWn50KNLDuDy",
    "outputId": "6936e458-0867-4fd0-f424-799077c177e1"
   },
   "outputs": [],
   "source": [
    "P_test.head()"
   ]
  },
  {
   "cell_type": "code",
   "execution_count": null,
   "metadata": {
    "colab": {},
    "colab_type": "code",
    "collapsed": true,
    "id": "RZUUkvwUr67o"
   },
   "outputs": [],
   "source": [
    "#情報量のない0列を削除する\n",
    "P_train = P_train.drop([0], axis=1)\n",
    "P_test = P_test.drop([0], axis=1)"
   ]
  },
  {
   "cell_type": "code",
   "execution_count": null,
   "metadata": {
    "colab": {
     "base_uri": "https://localhost:8080/",
     "height": 198
    },
    "colab_type": "code",
    "id": "l8h3tQxsqoTZ",
    "outputId": "f9ccd4ae-216c-45c0-e614-d1baf484c170"
   },
   "outputs": [],
   "source": [
    "P_train.head()"
   ]
  },
  {
   "cell_type": "code",
   "execution_count": null,
   "metadata": {
    "colab": {
     "base_uri": "https://localhost:8080/",
     "height": 198
    },
    "colab_type": "code",
    "id": "1bVRkg_kD1lL",
    "outputId": "135dbcef-4369-4eb8-af31-2c26a88a6bdc"
   },
   "outputs": [],
   "source": [
    "P_test.head()"
   ]
  },
  {
   "cell_type": "code",
   "execution_count": null,
   "metadata": {
    "colab": {},
    "colab_type": "code",
    "collapsed": true,
    "id": "q1qNuoXxqWse"
   },
   "outputs": [],
   "source": [
    "#P_trainの列に名前をつける\n",
    "P_train = P_train.rename(columns={1: 'Pclass_vec1',2:'Pclass_vec2',3:'Pclass_vec3'})\n",
    "P_test = P_test.rename(columns={1: 'Pclass_vec1',2:'Pclass_vec2',3:'Pclass_vec3'})"
   ]
  },
  {
   "cell_type": "code",
   "execution_count": null,
   "metadata": {
    "colab": {
     "base_uri": "https://localhost:8080/",
     "height": 198
    },
    "colab_type": "code",
    "id": "TkrrGly0yxj_",
    "outputId": "6e20f56e-d78f-4ee5-c66e-9a5cf174dcf1"
   },
   "outputs": [],
   "source": [
    "P_train.head()"
   ]
  },
  {
   "cell_type": "code",
   "execution_count": null,
   "metadata": {
    "colab": {
     "base_uri": "https://localhost:8080/",
     "height": 198
    },
    "colab_type": "code",
    "id": "NjYQB0K5D_wu",
    "outputId": "980680ba-011f-4ab2-c753-12b9aa4ee785"
   },
   "outputs": [],
   "source": [
    "P_test.head()"
   ]
  },
  {
   "cell_type": "code",
   "execution_count": null,
   "metadata": {
    "colab": {
     "base_uri": "https://localhost:8080/",
     "height": 198
    },
    "colab_type": "code",
    "id": "-ez2taGU-rNh",
    "outputId": "938d416f-9e56-4dbf-c9ec-ad62dd25d2d6"
   },
   "outputs": [],
   "source": [
    "#非数値特徴を持っていたPclass列を削除する\n",
    "train = train.drop([\"Pclass\"], axis=1)\n",
    "train = pd.concat([train, P_train], axis=1)\n",
    "train.head()"
   ]
  },
  {
   "cell_type": "code",
   "execution_count": null,
   "metadata": {
    "colab": {
     "base_uri": "https://localhost:8080/",
     "height": 198
    },
    "colab_type": "code",
    "id": "DHdODzk0EGCD",
    "outputId": "8777d12d-d21d-4dae-d77b-4203aa6f2eb6"
   },
   "outputs": [],
   "source": [
    "#非数値特徴を持っていたPclass列を削除する\n",
    "test = test.drop([\"Pclass\"], axis=1)\n",
    "test = pd.concat([test, P_test], axis=1)\n",
    "test.head()"
   ]
  },
  {
   "cell_type": "code",
   "execution_count": null,
   "metadata": {
    "colab": {
     "base_uri": "https://localhost:8080/",
     "height": 54
    },
    "colab_type": "code",
    "id": "W-k_FhKm_Vep",
    "outputId": "9772125a-6b24-4f2b-a9eb-6206a9b8cd10"
   },
   "outputs": [],
   "source": [
    "print(train.shape)\n",
    "print(test.shape)"
   ]
  },
  {
   "cell_type": "code",
   "execution_count": null,
   "metadata": {
    "colab": {},
    "colab_type": "code",
    "collapsed": true,
    "id": "wTBo4-Fj_Zsv"
   },
   "outputs": [],
   "source": [
    "#非数値特徴をバイナリベクトルに変換する関数\n",
    "def num2vec(col_name,data):\n",
    "    c_train = np_utils.to_categorical(data[col_name],data[col_name].max()+1)\n",
    "    c_train = pd.DataFrame(c_train)\n",
    "    return c_train"
   ]
  },
  {
   "cell_type": "code",
   "execution_count": null,
   "metadata": {
    "colab": {},
    "colab_type": "code",
    "collapsed": true,
    "id": "iF7LQLbhAAE0"
   },
   "outputs": [],
   "source": [
    "#Sexの非数値特徴をバイナリベクトルに変換する\n",
    "Sex_train = num2vec(\"Sex\",train)\n",
    "Sex_train = Sex_train.rename(columns={0: '男性',1:'女性'})"
   ]
  },
  {
   "cell_type": "code",
   "execution_count": null,
   "metadata": {
    "colab": {},
    "colab_type": "code",
    "collapsed": true,
    "id": "T_3znPgkEkJA"
   },
   "outputs": [],
   "source": [
    "#Sexの非数値特徴をバイナリベクトルに変換する\n",
    "Sex_test = num2vec(\"Sex\",test)\n",
    "Sex_test = Sex_test.rename(columns={0: '男性',1:'女性'})"
   ]
  },
  {
   "cell_type": "code",
   "execution_count": null,
   "metadata": {
    "colab": {},
    "colab_type": "code",
    "collapsed": true,
    "id": "MjXsXfQzx4Gd"
   },
   "outputs": [],
   "source": [
    "#Embarkedの非数値特徴をバイナリベクトルに変換する\n",
    "Embarked_train = num2vec(\"Embarked\",train)\n",
    "Embarked_train = Embarked_train.rename(columns={0: 'Cherbourg',1:'Queenstown',2:'Southampton'})"
   ]
  },
  {
   "cell_type": "code",
   "execution_count": null,
   "metadata": {
    "colab": {},
    "colab_type": "code",
    "collapsed": true,
    "id": "aFY_9WsXEpqV"
   },
   "outputs": [],
   "source": [
    "#Embarkedの非数値特徴をバイナリベクトルに変換する\n",
    "Embarked_test = num2vec(\"Embarked\",test)\n",
    "Embarked_test = Embarked_test.rename(columns={0: 'Cherbourg',1:'Queenstown',2:'Southampton'})"
   ]
  },
  {
   "cell_type": "code",
   "execution_count": null,
   "metadata": {
    "colab": {
     "base_uri": "https://localhost:8080/",
     "height": 198
    },
    "colab_type": "code",
    "id": "QElgmokLye6R",
    "outputId": "13435e02-e685-42c7-bf1f-1e48fc082b2c"
   },
   "outputs": [],
   "source": [
    "Sex_train.head()"
   ]
  },
  {
   "cell_type": "code",
   "execution_count": null,
   "metadata": {
    "colab": {
     "base_uri": "https://localhost:8080/",
     "height": 198
    },
    "colab_type": "code",
    "id": "LakRv39WExNF",
    "outputId": "1f4aee75-175f-470a-9648-6981b0b00c16"
   },
   "outputs": [],
   "source": [
    "Sex_test.head()"
   ]
  },
  {
   "cell_type": "code",
   "execution_count": null,
   "metadata": {
    "colab": {
     "base_uri": "https://localhost:8080/",
     "height": 284
    },
    "colab_type": "code",
    "id": "QXpCeQobypme",
    "outputId": "7eb997ed-7b8a-4b3d-b837-e73f731a721e"
   },
   "outputs": [],
   "source": [
    "Embarked_train.head()"
   ]
  },
  {
   "cell_type": "code",
   "execution_count": null,
   "metadata": {
    "colab": {
     "base_uri": "https://localhost:8080/",
     "height": 284
    },
    "colab_type": "code",
    "id": "oQz8dAuME2Dd",
    "outputId": "a64e7325-a76c-45d4-c535-0183388ef2f0"
   },
   "outputs": [],
   "source": [
    "Embarked_test.head()"
   ]
  },
  {
   "cell_type": "code",
   "execution_count": null,
   "metadata": {
    "colab": {
     "base_uri": "https://localhost:8080/",
     "height": 284
    },
    "colab_type": "code",
    "id": "oK5E3ZiCzMRr",
    "outputId": "3896989e-9dbe-4db1-9c30-57d20eab3469"
   },
   "outputs": [],
   "source": [
    "#バイナリベクトルに変換したSexとEmbarkedをトレーニングデータに加える\n",
    "train = train.drop([\"Sex\"], axis=1)\n",
    "train = train.drop([\"Embarked\"], axis=1)\n",
    "train = pd.concat([train, Sex_train,Embarked_train], axis=1)\n",
    "train.head()"
   ]
  },
  {
   "cell_type": "code",
   "execution_count": null,
   "metadata": {
    "colab": {
     "base_uri": "https://localhost:8080/",
     "height": 216
    },
    "colab_type": "code",
    "id": "5SFW0pxZE9cF",
    "outputId": "f538ea40-ab7a-4350-e4c4-7cb710144bb8"
   },
   "outputs": [],
   "source": [
    "#バイナリベクトルに変換したSexとEmbarkedをトレーニングデータに加える\n",
    "test = test.drop([\"Sex\"], axis=1)\n",
    "test = test.drop([\"Embarked\"], axis=1)\n",
    "test = pd.concat([test, Sex_test,Embarked_test], axis=1)\n",
    "test.head()"
   ]
  },
  {
   "cell_type": "code",
   "execution_count": null,
   "metadata": {
    "colab": {
     "base_uri": "https://localhost:8080/",
     "height": 216
    },
    "colab_type": "code",
    "id": "9PwlKKnc0s81",
    "outputId": "cccc2f6f-0f65-4cfc-f718-0e3f14b2dafe"
   },
   "outputs": [],
   "source": [
    "#トレーニングデータを正規化する\n",
    "train = (train - train.min()) / (train.max() - train.min())\n",
    "train.head()"
   ]
  },
  {
   "cell_type": "code",
   "execution_count": null,
   "metadata": {
    "colab": {
     "base_uri": "https://localhost:8080/",
     "height": 216
    },
    "colab_type": "code",
    "id": "eLNCXFCHFKMX",
    "outputId": "28c38397-04a8-48ad-e118-fc1c7db3a3a1"
   },
   "outputs": [],
   "source": [
    "#トレーニングデータを正規化する\n",
    "test = (test - test.min()) / (test.max() - test.min())\n",
    "test.head()"
   ]
  },
  {
   "cell_type": "code",
   "execution_count": null,
   "metadata": {
    "colab": {
     "base_uri": "https://localhost:8080/",
     "height": 153
    },
    "colab_type": "code",
    "id": "q3dm4abzGs6t",
    "outputId": "8c73ee8f-418f-45b9-bd8f-df6a833ab3af"
   },
   "outputs": [],
   "source": [
    "#教師データをバイナリベクトルに変換する\n",
    "Y_train = np_utils.to_categorical(Y_train,2)\n",
    "Y_train"
   ]
  },
  {
   "cell_type": "code",
   "execution_count": null,
   "metadata": {
    "colab": {
     "base_uri": "https://localhost:8080/",
     "height": 1000
    },
    "colab_type": "code",
    "id": "8QJT46VL-Eqf",
    "outputId": "6e480099-303d-44d9-b0ae-68ad30afc626"
   },
   "outputs": [],
   "source": [
    "#MLP(3層のニューラルネットワーク)を作成する\n",
    "from keras.callbacks import EarlyStopping\n",
    "early = EarlyStopping(monitor = 'val_loss',patience = 5,verbose=1)\n",
    "\n",
    "from sklearn import preprocessing\n",
    "from sklearn.model_selection import train_test_split\n",
    "\n",
    "from keras.models import Sequential\n",
    "from keras.layers import Dense,Activation\n",
    "from keras.optimizers import SGD\n",
    "from keras.utils import np_utils\n",
    "from keras.models import load_model\n",
    "    \n",
    "from keras.layers.core import Dropout\n",
    "\n",
    "n_in = len(train.columns)\n",
    "n_out = len(Y_train[0])\n",
    "\n",
    "#中間総数\n",
    "n_hidden = 100\n",
    "#学習回数\n",
    "epochs = 10\n",
    "#バッチサイズ\n",
    "batch_size = 10\n",
    "\n",
    "model = Sequential()\n",
    "model.add(Dense(n_hidden,input_dim=n_in))\n",
    "model.add(Activation('sigmoid'))\n",
    "model.add(Dropout(0.5))\n",
    "\n",
    "model.add(Dense(output_dim=n_out))\n",
    "model.add(Activation('softmax'))   \n",
    "    \n",
    "model.compile(loss='categorical_crossentropy',\n",
    "optimizer='adam',\n",
    "metrics=['accuracy'])\n",
    "\n",
    "history = model.fit(train,Y_train,epochs = epochs,batch_size = batch_size,callbacks=[early])"
   ]
  },
  {
   "cell_type": "code",
   "execution_count": null,
   "metadata": {
    "colab": {
     "base_uri": "https://localhost:8080/",
     "height": 1000
    },
    "colab_type": "code",
    "id": "dzWv5ZtqFRDw",
    "outputId": "23fedf53-0c93-4a5b-f885-e621792b012e"
   },
   "outputs": [],
   "source": [
    "#テストデータの予測を行う\n",
    "prob = model.predict(test)\n",
    "prob"
   ]
  },
  {
   "cell_type": "code",
   "execution_count": null,
   "metadata": {
    "colab": {},
    "colab_type": "code",
    "collapsed": true,
    "id": "5AWGd0FyFep_"
   },
   "outputs": [],
   "source": [
    "#テストデータの予測を1次元に変換する\n",
    "ans = [0 if prob[i][0] > prob[i][1] else 1 for i in range(len(prob))]"
   ]
  },
  {
   "cell_type": "code",
   "execution_count": null,
   "metadata": {
    "colab": {
     "base_uri": "https://localhost:8080/",
     "height": 1000
    },
    "colab_type": "code",
    "id": "7z6BpjvLKGh9",
    "outputId": "c76caa79-4131-4927-a668-97c5e2d8cc57"
   },
   "outputs": [],
   "source": [
    "ans"
   ]
  },
  {
   "cell_type": "code",
   "execution_count": null,
   "metadata": {
    "colab": {
     "base_uri": "https://localhost:8080/",
     "height": 708
    },
    "colab_type": "code",
    "id": "VRBq4iCjLZYa",
    "outputId": "251471ba-8175-478b-a525-df8836f5840b"
   },
   "outputs": [],
   "source": [
    "test = pd.read_csv(\"./test.csv\")\n",
    "# PassengerIdを取得\n",
    "PassengerId = np.array(test[\"PassengerId\"]).astype(int)\n",
    "PassengerId"
   ]
  },
  {
   "cell_type": "code",
   "execution_count": null,
   "metadata": {
    "colab": {},
    "colab_type": "code",
    "collapsed": true,
    "id": "DRR-Rti8PxY7"
   },
   "outputs": [],
   "source": [
    "# my_prediction(予測データ）とPassengerIdをデータフレームへ落とし込む\n",
    "my_solution = pd.DataFrame(ans, PassengerId, columns = [\"Survived\"])\n",
    "\n",
    "# csvとして書き出す\n",
    "my_solution.to_csv(\"titanicNN.csv\", index_label = [\"PassengerId\"])"
   ]
  },
  {
   "cell_type": "code",
   "execution_count": null,
   "metadata": {
    "colab": {},
    "colab_type": "code",
    "collapsed": true,
    "id": "ztz4Mc_EO4zE"
   },
   "outputs": [],
   "source": []
  },
  {
   "cell_type": "code",
   "execution_count": null,
   "metadata": {
    "colab": {},
    "colab_type": "code",
    "collapsed": true,
    "id": "JnM-ZusxSrRF"
   },
   "outputs": [],
   "source": []
  },
  {
   "cell_type": "code",
   "execution_count": null,
   "metadata": {
    "colab": {},
    "colab_type": "code",
    "collapsed": true,
    "id": "ZfQqx6KiSvMj"
   },
   "outputs": [],
   "source": []
  }
 ],
 "metadata": {
  "colab": {
   "collapsed_sections": [],
   "name": "colabosample.ipynb",
   "provenance": [],
   "version": "0.3.2"
  },
  "kernelspec": {
   "display_name": "Python 3",
   "language": "python",
   "name": "python3"
  },
  "language_info": {
   "codemirror_mode": {
    "name": "ipython",
    "version": 3
   },
   "file_extension": ".py",
   "mimetype": "text/x-python",
   "name": "python",
   "nbconvert_exporter": "python",
   "pygments_lexer": "ipython3",
   "version": "3.6.3"
  }
 },
 "nbformat": 4,
 "nbformat_minor": 1
}
